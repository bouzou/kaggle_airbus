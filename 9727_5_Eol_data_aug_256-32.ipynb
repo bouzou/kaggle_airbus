{
 "cells": [
  {
   "cell_type": "code",
   "execution_count": 1,
   "metadata": {},
   "outputs": [],
   "source": [
    "# ============================================================================================\n",
    "# PROJET : AIRBUS - reconnaissance d image avec eolienne vs image sans eolienne\n",
    "# PROBLEME : probleme classification binaire supervisee dans le domaime de la COMPUTER VISION\n",
    "# AUTEUR : MS Valdom > LE PICAUT DIDIER\n",
    "# ============================================================================================"
   ]
  },
  {
   "cell_type": "code",
   "execution_count": 2,
   "metadata": {},
   "outputs": [],
   "source": [
    "# ATTENTION : bouzou_128512_25632_m_std.csv || *** RMSE = 0.9727"
   ]
  },
  {
   "cell_type": "code",
   "execution_count": 3,
   "metadata": {},
   "outputs": [
    {
     "name": "stderr",
     "output_type": "stream",
     "text": [
      "Using TensorFlow backend.\n"
     ]
    }
   ],
   "source": [
    "# ============================================================================================\n",
    "# 1. STACK TECHNIQUE\n",
    "# ============================================================================================\n",
    "\n",
    "# utils\n",
    "import sys # Paramètres et fonctions propres à des systèmes\n",
    "import os # Les fonctions fournies par os vous permettent de vous connecter a OS linux\n",
    "import shutil # pour les operations de fichiers\n",
    "import time # utiliser compteur\n",
    "import pickle # sauver un objet python en txt\n",
    "import numpy as np # gestion des tableaux\n",
    "\n",
    "# Manipulation de données \n",
    "import pandas as pd # data en dataframe\n",
    "from PIL import Image # module de traitement image\n",
    "\n",
    "# Deep Learning Librairies\n",
    "import tensorflow as tf # utiliser lib TF\n",
    "\n",
    "from keras.models import Sequential\n",
    "from keras.layers import Dense\n",
    "from keras.layers import Dropout\n",
    "from keras.layers import Flatten\n",
    "from keras.constraints import maxnorm\n",
    "from keras.optimizers import SGD\n",
    "from keras.layers import Activation\n",
    "from keras.layers.convolutional import Conv2D\n",
    "from keras.layers.convolutional import MaxPooling2D\n",
    "from keras.layers.normalization import BatchNormalization\n",
    "from keras.utils import np_utils\n",
    "\n",
    "# from keras_sequential_ascii import sequential_model_to_ascii_printout\n",
    "import keras.preprocessing.image as kpi\n",
    "import keras.layers as kl\n",
    "import keras.optimizers as ko\n",
    "import keras.backend as k\n",
    "import keras.models as km\n",
    "import keras.applications as ka\n",
    "\n",
    "# Visualisation des données\n",
    "from matplotlib import pyplot as plt"
   ]
  },
  {
   "cell_type": "code",
   "execution_count": 4,
   "metadata": {},
   "outputs": [],
   "source": [
    "ts = time.time()"
   ]
  },
  {
   "cell_type": "code",
   "execution_count": 5,
   "metadata": {},
   "outputs": [
    {
     "name": "stdout",
     "output_type": "stream",
     "text": [
      "[name: \"/device:CPU:0\"\n",
      "device_type: \"CPU\"\n",
      "memory_limit: 268435456\n",
      "locality {\n",
      "}\n",
      "incarnation: 18211512132527580913\n",
      ", name: \"/device:XLA_CPU:0\"\n",
      "device_type: \"XLA_CPU\"\n",
      "memory_limit: 17179869184\n",
      "locality {\n",
      "}\n",
      "incarnation: 11054553745796044343\n",
      "physical_device_desc: \"device: XLA_CPU device\"\n",
      ", name: \"/device:XLA_GPU:0\"\n",
      "device_type: \"XLA_GPU\"\n",
      "memory_limit: 17179869184\n",
      "locality {\n",
      "}\n",
      "incarnation: 5307617397355384870\n",
      "physical_device_desc: \"device: XLA_GPU device\"\n",
      ", name: \"/device:GPU:0\"\n",
      "device_type: \"GPU\"\n",
      "memory_limit: 7540211712\n",
      "locality {\n",
      "  bus_id: 1\n",
      "  links {\n",
      "  }\n",
      "}\n",
      "incarnation: 2858159551865116058\n",
      "physical_device_desc: \"device: 0, name: GeForce GTX 1080, pci bus id: 0000:01:00.0, compute capability: 6.1\"\n",
      "]\n"
     ]
    }
   ],
   "source": [
    "# ============================================================================================\n",
    "# 1.1. VERIFICATION STACK TECHNIQUE - MODE CPU\n",
    "# ============================================================================================\n",
    "from tensorflow.python.client import device_lib\n",
    "print(device_lib.list_local_devices())"
   ]
  },
  {
   "cell_type": "code",
   "execution_count": 6,
   "metadata": {},
   "outputs": [
    {
     "name": "stdout",
     "output_type": "stream",
     "text": [
      "GPU\n"
     ]
    }
   ],
   "source": [
    "# ============================================================================================\n",
    "# 1.2. VERIFICATION STACK TECHNIQUE - MODE GPU\n",
    "# ============================================================================================\n",
    "MODE = \"GPU\" if \"GPU\" in [k.device_type for k in device_lib.list_local_devices()] else \"CPU\"\n",
    "print(MODE)"
   ]
  },
  {
   "cell_type": "code",
   "execution_count": 7,
   "metadata": {},
   "outputs": [],
   "source": [
    "# ============================================================================================\n",
    "# 2. PREPROCESSING DES DATAS\n",
    "# ============================================================================================"
   ]
  },
  {
   "cell_type": "code",
   "execution_count": 8,
   "metadata": {},
   "outputs": [
    {
     "name": "stdout",
     "output_type": "stream",
     "text": [
      "Système détecté =  linux\n",
      "Système INSA\n"
     ]
    }
   ],
   "source": [
    "# ============================================================================================\n",
    "# 2.1 CHEMIN DES DATAS\n",
    "# ============================================================================================\n",
    "\n",
    "sp = sys.platform\n",
    "\n",
    "print(\"Système détecté = \", sp)\n",
    "\n",
    "sp = 'INSA'\n",
    "\n",
    "\n",
    "if ('INSA' == sp):\n",
    "    print(\"Système INSA\")\n",
    "    \n",
    "    # données PC INSA\n",
    "    data_dir = \"/home/dlp/insa31/data_airbus_defi/data_airbus_defi/\"\n",
    "    \n",
    "    # données de tests\n",
    "    data_dir_test = data_dir+\"test/\"\n",
    "\n",
    "    # données d'apprentissage\n",
    "    ##data_train = data_dir+'train2/'\n",
    "    data_train = data_dir+'train/'\n",
    "    data_train_other = data_train+'other/'\n",
    "    data_train_target = data_train+'target/'\n",
    "\n",
    "    # creation d'un répertoire de validation à partir des données de test\n",
    "    ##data_validation = data_dir+'validation2/'\n",
    "    data_validation = data_dir+'validation/'\n",
    "    data_validation_other = data_validation+'other/'\n",
    "    data_validation_target = data_validation+'target/'\n",
    "\n"
   ]
  },
  {
   "cell_type": "code",
   "execution_count": 9,
   "metadata": {},
   "outputs": [],
   "source": [
    "# ============================================================================================\n",
    "# 2.1.1. type de donnees\n",
    "# ============================================================================================"
   ]
  },
  {
   "cell_type": "code",
   "execution_count": 10,
   "metadata": {},
   "outputs": [],
   "source": [
    "#=== DIMENSIONS DES IMAGES (128 X 128 X 3)\n",
    "img_width_eol = 128\n",
    "img_height_eol = 128"
   ]
  },
  {
   "cell_type": "code",
   "execution_count": 11,
   "metadata": {},
   "outputs": [
    {
     "name": "stdout",
     "output_type": "stream",
     "text": [
      "Repertoire DataGenerator Train  =  /home/dlp/insa31/data_airbus_defi/data_airbus_defi/train/\n",
      "Found 54573 images belonging to 2 classes.\n"
     ]
    }
   ],
   "source": [
    "# ============================================================================================\n",
    "# 2.1.1. Données d'apprentissage\n",
    "# ============================================================================================\n",
    "\n",
    "# data augmentation\n",
    "\n",
    "print (\"Repertoire DataGenerator Train  = \", data_train)\n",
    "\n",
    "# Pour les valeurs choisies pour la génération des images voir : https://keras.io/preprocessing/image/\n",
    "train_datagen_eol = kpi.ImageDataGenerator(\n",
    "        rescale     = 1./255,\n",
    "        featurewise_center=True,\n",
    "        featurewise_std_normalization=True,\n",
    "        shear_range = 0.3, #0.2\n",
    "        zoom_range  = 0.3, #0.2\n",
    "        horizontal_flip = True)\n",
    "\n",
    "train_generator_eol = train_datagen_eol.flow_from_directory(\n",
    "        data_train,\n",
    "        target_size=(img_width_eol, img_height_eol),\n",
    "        batch_size=128, #32\n",
    "        class_mode='binary')\n"
   ]
  },
  {
   "cell_type": "code",
   "execution_count": 12,
   "metadata": {},
   "outputs": [
    {
     "name": "stdout",
     "output_type": "stream",
     "text": [
      "Taille des échantillons de train :  54573\n"
     ]
    }
   ],
   "source": [
    "# sanity check\n",
    "N_train_eol = train_generator_eol.n\n",
    "print(\"Taille des échantillons de train : \", N_train_eol)"
   ]
  },
  {
   "cell_type": "code",
   "execution_count": 13,
   "metadata": {},
   "outputs": [
    {
     "name": "stdout",
     "output_type": "stream",
     "text": [
      "Repertoire DataGenerator Valid =  /home/dlp/insa31/data_airbus_defi/data_airbus_defi/validation/\n",
      "Found 13645 images belonging to 2 classes.\n"
     ]
    }
   ],
   "source": [
    "# ============================================================================================\n",
    "# 2.1.2. Données de validation\n",
    "# ============================================================================================\n",
    "\n",
    "print (\"Repertoire DataGenerator Valid = \", data_validation)\n",
    "\n",
    "# Pour les valeurs choisies pour la génération des images voir : https://keras.io/preprocessing/image/\n",
    "valid_datagen_eol = kpi.ImageDataGenerator(\n",
    "        rescale = 1./255,\n",
    "        featurewise_center=True,\n",
    "        featurewise_std_normalization=True,\n",
    "        shear_range = 0.3, #0.2\n",
    "        zoom_range  = 0.3, #0.2\n",
    "        horizontal_flip = True)\n",
    "    \n",
    "validation_generator_eol = valid_datagen_eol.flow_from_directory(\n",
    "        data_validation,\n",
    "        target_size=(img_width_eol, img_height_eol),\n",
    "        batch_size=128, #32\n",
    "        class_mode='binary')"
   ]
  },
  {
   "cell_type": "code",
   "execution_count": 14,
   "metadata": {},
   "outputs": [
    {
     "name": "stdout",
     "output_type": "stream",
     "text": [
      "Taille des échantillons de validation :  13645\n"
     ]
    }
   ],
   "source": [
    "# sanity check\n",
    "N_val_eol = validation_generator_eol.n\n",
    "print(\"Taille des échantillons de validation : \", N_val_eol)"
   ]
  },
  {
   "cell_type": "code",
   "execution_count": 15,
   "metadata": {},
   "outputs": [
    {
     "name": "stdout",
     "output_type": "stream",
     "text": [
      "_________________________________________________________________\n",
      "Layer (type)                 Output Shape              Param #   \n",
      "=================================================================\n",
      "conv2d_1 (Conv2D)            (None, 126, 126, 128)     3584      \n",
      "_________________________________________________________________\n",
      "activation_1 (Activation)    (None, 126, 126, 128)     0         \n",
      "_________________________________________________________________\n",
      "max_pooling2d_1 (MaxPooling2 (None, 63, 63, 128)       0         \n",
      "_________________________________________________________________\n",
      "conv2d_2 (Conv2D)            (None, 61, 61, 128)       147584    \n",
      "_________________________________________________________________\n",
      "activation_2 (Activation)    (None, 61, 61, 128)       0         \n",
      "_________________________________________________________________\n",
      "max_pooling2d_2 (MaxPooling2 (None, 30, 30, 128)       0         \n",
      "_________________________________________________________________\n",
      "conv2d_3 (Conv2D)            (None, 28, 28, 256)       295168    \n",
      "_________________________________________________________________\n",
      "activation_3 (Activation)    (None, 28, 28, 256)       0         \n",
      "_________________________________________________________________\n",
      "max_pooling2d_3 (MaxPooling2 (None, 14, 14, 256)       0         \n",
      "_________________________________________________________________\n",
      "flatten_1 (Flatten)          (None, 50176)             0         \n",
      "_________________________________________________________________\n",
      "dense_1 (Dense)              (None, 512)               25690624  \n",
      "_________________________________________________________________\n",
      "activation_4 (Activation)    (None, 512)               0         \n",
      "_________________________________________________________________\n",
      "dropout_1 (Dropout)          (None, 512)               0         \n",
      "_________________________________________________________________\n",
      "dense_2 (Dense)              (None, 1)                 513       \n",
      "_________________________________________________________________\n",
      "activation_5 (Activation)    (None, 1)                 0         \n",
      "=================================================================\n",
      "Total params: 26,137,473\n",
      "Trainable params: 26,137,473\n",
      "Non-trainable params: 0\n",
      "_________________________________________________________________\n"
     ]
    }
   ],
   "source": [
    "# ============================================================================================\n",
    "# 3. ARCHITECTURE DU RESEAU DE NEURONES CONVOLUTIONNELLES\n",
    "# ============================================================================================\n",
    "\n",
    "model_conv_eol = km.Sequential()\n",
    "\n",
    "# Source : https://keras.io/layers/convolutional/\n",
    " \n",
    "# bloc1=Conv2D\n",
    "model_conv_eol.add(kl.Conv2D(128, (3, 3), \n",
    "                             input_shape=(img_width_eol, img_height_eol, 3), \n",
    "                             data_format=\"channels_last\"))\n",
    "##model_conv_eol.add(BatchNormalization())\n",
    "model_conv_eol.add(kl.Activation('relu'))\n",
    "model_conv_eol.add(kl.MaxPooling2D(pool_size=(2, 2)))\n",
    "\n",
    "# bloc2=Conv2D\n",
    "model_conv_eol.add(kl.Conv2D(128, (3, 3)))\n",
    "model_conv_eol.add(kl.Activation('relu'))\n",
    "model_conv_eol.add(kl.MaxPooling2D(pool_size=(2, 2)))\n",
    "\n",
    "# bloc4=Conv2D\n",
    "model_conv_eol.add(kl.Conv2D(256, (3, 3)))\n",
    "model_conv_eol.add(kl.Activation('relu'))\n",
    "model_conv_eol.add(kl.MaxPooling2D(pool_size=(2, 2)))\n",
    "model_conv_eol.add(kl.Flatten()) # Conversion feature 2D en feature 1D\n",
    "\n",
    "\n",
    "# sortie perceptron 1 couche \"full-connected\"\n",
    "model_conv_eol.add(kl.Dense(512))\n",
    "model_conv_eol.add(kl.Activation('relu'))\n",
    "model_conv_eol.add(kl.Dropout(0.5))\n",
    "model_conv_eol.add(kl.Dense(1))\n",
    "model_conv_eol.add(kl.Activation('sigmoid')) #binary classification\n",
    "\n",
    "model_conv_eol.compile(loss='binary_crossentropy',\n",
    "              optimizer='Adam',\n",
    "              metrics=['accuracy'])\n",
    "\n",
    "model_conv_eol.summary()"
   ]
  },
  {
   "cell_type": "code",
   "execution_count": 16,
   "metadata": {},
   "outputs": [
    {
     "name": "stdout",
     "output_type": "stream",
     "text": [
      "N_train_eol =  54573\n",
      "N_val_eol =  13645\n",
      "epochs_eol =  50\n",
      "batch_size_eol =  256\n",
      "steps_per_epoch =  213\n",
      "validation_steps =  53\n"
     ]
    }
   ],
   "source": [
    "# ============================================================================================\n",
    "# 4. FIXER LES PARAMETRES D APPRENTISSAGE\n",
    "# ============================================================================================\n",
    "\n",
    "# nb epoch\n",
    "epochs_eol = 50 ## RUN significatif = 100 / depart 10\n",
    "\n",
    "# taille du batch\n",
    "batch_size_eol = 256 # 32\n",
    "\n",
    "print(\"N_train_eol = \", N_train_eol)\n",
    "print(\"N_val_eol = \", N_val_eol)\n",
    "\n",
    "print(\"epochs_eol = \", epochs_eol)\n",
    "print(\"batch_size_eol = \", batch_size_eol)\n",
    "print(\"steps_per_epoch = \", N_train_eol // batch_size_eol)\n",
    "print(\"validation_steps = \", N_val_eol // batch_size_eol)"
   ]
  },
  {
   "cell_type": "code",
   "execution_count": 17,
   "metadata": {},
   "outputs": [
    {
     "name": "stdout",
     "output_type": "stream",
     "text": [
      "Sauvegarde du modèle :  /home/dlp/insa31/data_airbus_defi/data_airbus_defi/results/Model4Layers/Model-V1-E50-B256.h5\n"
     ]
    }
   ],
   "source": [
    "# ============================================================================================\n",
    "# 4.1. Sauvegarde du modèle \n",
    "# ============================================================================================\n",
    "\n",
    "#file = \"./results/Model4Layers/Model-V1-E{0}-B{1}.h5\".format(epochs_eol, batch_size_eol)\n",
    "file = \"/home/dlp/insa31/data_airbus_defi/data_airbus_defi/results/Model4Layers/Model-V1-E{0}-B{1}.h5\".format(epochs_eol, batch_size_eol)\n",
    "print(\"Sauvegarde du modèle : \", file)\n",
    "model_conv_eol.save(file)\n"
   ]
  },
  {
   "cell_type": "code",
   "execution_count": 18,
   "metadata": {
    "scrolled": true
   },
   "outputs": [
    {
     "name": "stdout",
     "output_type": "stream",
     "text": [
      "Epoch 1/50\n"
     ]
    },
    {
     "name": "stderr",
     "output_type": "stream",
     "text": [
      "/home/dlp/anaconda3/envs/tensorflow_gpuenv/lib/python3.6/site-packages/keras_preprocessing/image.py:1131: UserWarning: This ImageDataGenerator specifies `featurewise_center`, but it hasn't been fit on any training data. Fit it first by calling `.fit(numpy_data)`.\n",
      "  warnings.warn('This ImageDataGenerator specifies '\n",
      "/home/dlp/anaconda3/envs/tensorflow_gpuenv/lib/python3.6/site-packages/keras_preprocessing/image.py:1139: UserWarning: This ImageDataGenerator specifies `featurewise_std_normalization`, but it hasn't been fit on any training data. Fit it first by calling `.fit(numpy_data)`.\n",
      "  warnings.warn('This ImageDataGenerator specifies '\n"
     ]
    },
    {
     "name": "stdout",
     "output_type": "stream",
     "text": [
      "213/213 [==============================] - 69s 324ms/step - loss: 0.3149 - acc: 0.8658 - val_loss: 0.1899 - val_acc: 0.9275\n",
      "Epoch 2/50\n",
      "213/213 [==============================] - 67s 314ms/step - loss: 0.1808 - acc: 0.9309 - val_loss: 0.1633 - val_acc: 0.9406\n",
      "Epoch 3/50\n",
      "213/213 [==============================] - 66s 310ms/step - loss: 0.1560 - acc: 0.9429 - val_loss: 0.1351 - val_acc: 0.9516\n",
      "Epoch 4/50\n",
      "213/213 [==============================] - 66s 310ms/step - loss: 0.1434 - acc: 0.9472 - val_loss: 0.1420 - val_acc: 0.9465\n",
      "Epoch 5/50\n",
      "213/213 [==============================] - 66s 310ms/step - loss: 0.1264 - acc: 0.9534 - val_loss: 0.1278 - val_acc: 0.9528\n",
      "Epoch 6/50\n",
      "213/213 [==============================] - 66s 309ms/step - loss: 0.1340 - acc: 0.9505 - val_loss: 0.1580 - val_acc: 0.9425\n",
      "Epoch 7/50\n",
      "213/213 [==============================] - 66s 310ms/step - loss: 0.1270 - acc: 0.9535 - val_loss: 0.1266 - val_acc: 0.9531\n",
      "Epoch 8/50\n",
      "213/213 [==============================] - 66s 309ms/step - loss: 0.1183 - acc: 0.9572 - val_loss: 0.1147 - val_acc: 0.9586\n",
      "Epoch 9/50\n",
      "213/213 [==============================] - 66s 310ms/step - loss: 0.1181 - acc: 0.9566 - val_loss: 0.1211 - val_acc: 0.9574\n",
      "Epoch 10/50\n",
      "213/213 [==============================] - 66s 310ms/step - loss: 0.1162 - acc: 0.9580 - val_loss: 0.1182 - val_acc: 0.9573\n",
      "Epoch 11/50\n",
      "213/213 [==============================] - 66s 312ms/step - loss: 0.1115 - acc: 0.9596 - val_loss: 0.1151 - val_acc: 0.9571\n",
      "Epoch 12/50\n",
      "213/213 [==============================] - 66s 310ms/step - loss: 0.1111 - acc: 0.9597 - val_loss: 0.1074 - val_acc: 0.9605\n",
      "Epoch 13/50\n",
      "213/213 [==============================] - 66s 309ms/step - loss: 0.1070 - acc: 0.9613 - val_loss: 0.1177 - val_acc: 0.9560\n",
      "Epoch 14/50\n",
      "213/213 [==============================] - 66s 309ms/step - loss: 0.1064 - acc: 0.9624 - val_loss: 0.1106 - val_acc: 0.9599\n",
      "Epoch 15/50\n",
      "213/213 [==============================] - 66s 309ms/step - loss: 0.1016 - acc: 0.9635 - val_loss: 0.1048 - val_acc: 0.9618\n",
      "Epoch 16/50\n",
      "213/213 [==============================] - 66s 309ms/step - loss: 0.1028 - acc: 0.9634 - val_loss: 0.1061 - val_acc: 0.9617\n",
      "Epoch 17/50\n",
      "213/213 [==============================] - 66s 310ms/step - loss: 0.0971 - acc: 0.9648 - val_loss: 0.0960 - val_acc: 0.9647\n",
      "Epoch 18/50\n",
      "213/213 [==============================] - 66s 309ms/step - loss: 0.1006 - acc: 0.9643 - val_loss: 0.1135 - val_acc: 0.9609\n",
      "Epoch 19/50\n",
      "213/213 [==============================] - 66s 310ms/step - loss: 0.0947 - acc: 0.9658 - val_loss: 0.1019 - val_acc: 0.9633\n",
      "Epoch 20/50\n",
      "213/213 [==============================] - 66s 310ms/step - loss: 0.0953 - acc: 0.9662 - val_loss: 0.1021 - val_acc: 0.9630\n",
      "Epoch 21/50\n",
      "213/213 [==============================] - 66s 308ms/step - loss: 0.0886 - acc: 0.9676 - val_loss: 0.1112 - val_acc: 0.9603\n",
      "Epoch 22/50\n",
      "213/213 [==============================] - 66s 310ms/step - loss: 0.0926 - acc: 0.9682 - val_loss: 0.1045 - val_acc: 0.9645\n",
      "Epoch 23/50\n",
      "213/213 [==============================] - 66s 309ms/step - loss: 0.0908 - acc: 0.9672 - val_loss: 0.1017 - val_acc: 0.9641\n",
      "Epoch 24/50\n",
      "213/213 [==============================] - 66s 310ms/step - loss: 0.0900 - acc: 0.9679 - val_loss: 0.1057 - val_acc: 0.9626\n",
      "Epoch 25/50\n",
      "213/213 [==============================] - 66s 308ms/step - loss: 0.0902 - acc: 0.9678 - val_loss: 0.0998 - val_acc: 0.9655\n",
      "Epoch 26/50\n",
      "213/213 [==============================] - 66s 309ms/step - loss: 0.0843 - acc: 0.9708 - val_loss: 0.1034 - val_acc: 0.9645\n",
      "Epoch 27/50\n",
      "213/213 [==============================] - 66s 308ms/step - loss: 0.0850 - acc: 0.9699 - val_loss: 0.1009 - val_acc: 0.9642\n",
      "Epoch 28/50\n",
      "213/213 [==============================] - 66s 308ms/step - loss: 0.0852 - acc: 0.9700 - val_loss: 0.0963 - val_acc: 0.9646\n",
      "Epoch 29/50\n",
      "213/213 [==============================] - 66s 308ms/step - loss: 0.0809 - acc: 0.9711 - val_loss: 0.1028 - val_acc: 0.9652\n",
      "Epoch 30/50\n",
      "213/213 [==============================] - 66s 309ms/step - loss: 0.0869 - acc: 0.9693 - val_loss: 0.0942 - val_acc: 0.9648\n",
      "Epoch 31/50\n",
      "213/213 [==============================] - 66s 310ms/step - loss: 0.0775 - acc: 0.9722 - val_loss: 0.1144 - val_acc: 0.9611\n",
      "Epoch 32/50\n",
      "213/213 [==============================] - 66s 309ms/step - loss: 0.0812 - acc: 0.9701 - val_loss: 0.0940 - val_acc: 0.9665\n",
      "Epoch 33/50\n",
      "213/213 [==============================] - 65s 307ms/step - loss: 0.0833 - acc: 0.9715 - val_loss: 0.0976 - val_acc: 0.9655\n",
      "Epoch 34/50\n",
      "213/213 [==============================] - 66s 309ms/step - loss: 0.0779 - acc: 0.9726 - val_loss: 0.1071 - val_acc: 0.9642\n",
      "Epoch 35/50\n",
      "213/213 [==============================] - 66s 308ms/step - loss: 0.0782 - acc: 0.9714 - val_loss: 0.0981 - val_acc: 0.9684\n",
      "Epoch 36/50\n",
      "213/213 [==============================] - 66s 309ms/step - loss: 0.0768 - acc: 0.9727 - val_loss: 0.1035 - val_acc: 0.9642\n",
      "Epoch 37/50\n",
      "213/213 [==============================] - 65s 307ms/step - loss: 0.0799 - acc: 0.9715 - val_loss: 0.0975 - val_acc: 0.9664\n",
      "Epoch 38/50\n",
      "213/213 [==============================] - 66s 310ms/step - loss: 0.0763 - acc: 0.9734 - val_loss: 0.1028 - val_acc: 0.9637\n",
      "Epoch 39/50\n",
      "213/213 [==============================] - 66s 308ms/step - loss: 0.0746 - acc: 0.9741 - val_loss: 0.0958 - val_acc: 0.9669\n",
      "Epoch 40/50\n",
      "213/213 [==============================] - 66s 310ms/step - loss: 0.0749 - acc: 0.9729 - val_loss: 0.1065 - val_acc: 0.9648\n",
      "Epoch 41/50\n",
      "213/213 [==============================] - 66s 308ms/step - loss: 0.0718 - acc: 0.9762 - val_loss: 0.1024 - val_acc: 0.9651\n",
      "Epoch 42/50\n",
      "213/213 [==============================] - 66s 309ms/step - loss: 0.0714 - acc: 0.9763 - val_loss: 0.1015 - val_acc: 0.9668\n",
      "Epoch 43/50\n",
      "213/213 [==============================] - 66s 308ms/step - loss: 0.0729 - acc: 0.9747 - val_loss: 0.0979 - val_acc: 0.9669\n",
      "Epoch 44/50\n",
      "213/213 [==============================] - 66s 309ms/step - loss: 0.0740 - acc: 0.9743 - val_loss: 0.1025 - val_acc: 0.9682\n",
      "Epoch 45/50\n",
      "213/213 [==============================] - 65s 307ms/step - loss: 0.0711 - acc: 0.9747 - val_loss: 0.1097 - val_acc: 0.9645\n",
      "Epoch 46/50\n",
      "213/213 [==============================] - 66s 309ms/step - loss: 0.0715 - acc: 0.9757 - val_loss: 0.0934 - val_acc: 0.9682\n",
      "Epoch 47/50\n",
      "213/213 [==============================] - 66s 310ms/step - loss: 0.0676 - acc: 0.9763 - val_loss: 0.1061 - val_acc: 0.9673\n",
      "Epoch 48/50\n",
      "213/213 [==============================] - 66s 312ms/step - loss: 0.0709 - acc: 0.9754 - val_loss: 0.1070 - val_acc: 0.9654\n",
      "Epoch 49/50\n",
      "213/213 [==============================] - 66s 308ms/step - loss: 0.0672 - acc: 0.9769 - val_loss: 0.1016 - val_acc: 0.9664\n",
      "Epoch 50/50\n",
      "213/213 [==============================] - 66s 310ms/step - loss: 0.0687 - acc: 0.9762 - val_loss: 0.1007 - val_acc: 0.9693\n",
      "{'val_loss': [0.18993963090316304, 0.16334474930223428, 0.13513222617175627, 0.1419678379623395, 0.12781586750542873, 0.15795299860666384, 0.12658059343388012, 0.1146667406384675, 0.12107975745000156, 0.11824773076289105, 0.11506182201661487, 0.10736704610709874, 0.11772985194698939, 0.11056754070351708, 0.1047509994931031, 0.10613231768585601, 0.09603824862621345, 0.11349423433531006, 0.10189949952261809, 0.1020877128642685, 0.11119638837748892, 0.10453662979152967, 0.10173750103746076, 0.1056752213329639, 0.0997946604933619, 0.10343779764085445, 0.10090012934966851, 0.09633269273447541, 0.10281658003301195, 0.09417627604221399, 0.11436738379075005, 0.0939838795413105, 0.09763009494706407, 0.10714468598928091, 0.09809445814083895, 0.10354796368277298, 0.09747629505014342, 0.10276000043553002, 0.09578696999477009, 0.10648282181541875, 0.10239665874414346, 0.10146367539352966, 0.09787031712466136, 0.10251305684587865, 0.10965064166648487, 0.09335558727945921, 0.10608194070400251, 0.10704731326198803, 0.101624428365005, 0.10068268030178996], 'val_acc': [0.9274764150943396, 0.9405955188679245, 0.9515817617831818, 0.9464917452830188, 0.952769938999665, 0.9425117924528302, 0.9530669837707612, 0.9585790094339622, 0.9573741273258197, 0.957252358490566, 0.9570770827583337, 0.9604952830188679, 0.9560374274891942, 0.9599056603773585, 0.9618297935541363, 0.9616745283018868, 0.9646517152721099, 0.9609375, 0.9633150154886001, 0.9630011792452831, 0.9603445711947471, 0.9644752358490566, 0.9640576265089477, 0.9625589622641509, 0.9655428486027584, 0.9644752358490566, 0.9642061487661328, 0.964622641509434, 0.965245804247735, 0.9647700471698113, 0.9610871824275574, 0.9665389150943396, 0.965542848496527, 0.9641804245283019, 0.9683647704800791, 0.9641804245283019, 0.9664339817209441, 0.9637382075471698, 0.966879548439384, 0.9647700471698113, 0.9650972819374342, 0.9668337264150944, 0.9668795484924996, 0.9681603773584906, 0.9645031930149248, 0.9681603773584906, 0.9673251149453611, 0.9653596698113207, 0.9664339816678283, 0.9693396226415094], 'loss': [0.31494829422431375, 0.1808460318426571, 0.1559556824779814, 0.14338082633038082, 0.12635880728649657, 0.13399270320302445, 0.12713416692408536, 0.11829029866647273, 0.11822754113557107, 0.1162404476844229, 0.11149885136403723, 0.11112883825187392, 0.10702649141518224, 0.1063741977575799, 0.10186052229478153, 0.10275791868777343, 0.09712459351901016, 0.10061821802366228, 0.09466044842815308, 0.09534316537071003, 0.08857501925928195, 0.0925746582658358, 0.0908018608938792, 0.08997942499396666, 0.0901107062623993, 0.08427038032369155, 0.08517241284081539, 0.08516417683360163, 0.08100240538950362, 0.08694215354120507, 0.07759530917876323, 0.08119928750248862, 0.08339959787295524, 0.0778842117821037, 0.07811307651880785, 0.07681363048862683, 0.0797679379205778, 0.07633827733391887, 0.07472322319433576, 0.07494164769813208, 0.07128192204238519, 0.07143345080368535, 0.07296512086647643, 0.07400547576622224, 0.07127427385549745, 0.0714892149233902, 0.0676822705020774, 0.07086744887028501, 0.06695238911532342, 0.0687174138136453], 'acc': [0.8658303990610329, 0.9309345657276995, 0.942974872159921, 0.9472197769953051, 0.9534233471954383, 0.9504841549295775, 0.9534601376005007, 0.9571596244131455, 0.9566241124358636, 0.9579665492957746, 0.9595673448408524, 0.9597271126760564, 0.9613332842838457, 0.9623679577464789, 0.9634303373680144, 0.963431631455399, 0.9647915823597075, 0.9643119131455399, 0.965748132889136, 0.9661825117370892, 0.9676612339545716, 0.9681631455399061, 0.9672565394988856, 0.9679430751173709, 0.9679187667922009, 0.9708039906103286, 0.969831867848865, 0.9699970657276995, 0.9710091608108605, 0.969300176056338, 0.9722232441823041, 0.9701071009389671, 0.9715242264839264, 0.9726379107981221, 0.9715610168933746, 0.9727479460093896, 0.9716345977034992, 0.9733714788732394, 0.9739891836209117, 0.9728946596244131, 0.9763437695514813, 0.9763057511737089, 0.9746146205069718, 0.974325117370892, 0.9746146205069718, 0.9756822183098591, 0.9762333983297156, 0.9753521126760564, 0.9770427872476661, 0.9762323943661971]}\n",
      "Learning Time for 50 epochs\n"
     ]
    }
   ],
   "source": [
    "# ============================================================================================\n",
    "# 4.2. execution - modele en apprentissage\n",
    "# ============================================================================================\n",
    "\n",
    "    \n",
    "hist = model_conv_eol.fit_generator(\n",
    "                            train_generator_eol, \n",
    "                            steps_per_epoch = N_train_eol // batch_size_eol,     \n",
    "                            epochs = epochs_eol,\n",
    "                            validation_data = validation_generator_eol,\n",
    "                            validation_steps = N_val_eol // batch_size_eol,\n",
    "                            shuffle = True,\n",
    "                            verbose =  1, #1\n",
    "                            use_multiprocessing = False\n",
    "                                   )\n",
    "print(hist.history)\n",
    "print(\"Learning Time for %d epochs\"%(epochs_eol))"
   ]
  },
  {
   "cell_type": "code",
   "execution_count": 19,
   "metadata": {},
   "outputs": [
    {
     "name": "stdout",
     "output_type": "stream",
     "text": [
      "Sauvegarde des poids du modèle :  /home/dlp/insa31/data_airbus_defi/data_airbus_defi/results/Model4Layers/ModelWeigts-V1-E50-B256.h5\n"
     ]
    }
   ],
   "source": [
    "# ============================================================================================\n",
    "# 4.3. Sauvegarde des poids  \n",
    "# ============================================================================================\n",
    "\n",
    "file_w = \"/home/dlp/insa31/data_airbus_defi/data_airbus_defi/results/Model4Layers/ModelWeigts-V1-E{0}-B{1}.h5\".format(epochs_eol, batch_size_eol)\n",
    "model_conv_eol.save_weights(file_w)\n",
    "print(\"Sauvegarde des poids du modèle : \", file_w)\n"
   ]
  },
  {
   "cell_type": "code",
   "execution_count": 20,
   "metadata": {},
   "outputs": [
    {
     "data": {
      "image/png": "[encoded data removed]",
      "text/plain": [
       "<Figure size 432x288 with 1 Axes>"
      ]
     },
     "metadata": {
      "needs_background": "light"
     },
     "output_type": "display_data"
    },
    {
     "data": {
      "image/png": "[encoded data removed]",
      "text/plain": [
       "<Figure size 576x432 with 1 Axes>"
      ]
     },
     "metadata": {
      "needs_background": "light"
     },
     "output_type": "display_data"
    }
   ],
   "source": [
    "# ============================================================================================\n",
    "# 4.4. courbes fonctions loss et accuracy\n",
    "# ============================================================================================\n",
    "\n",
    "plt.figure(0)\n",
    "plt.plot(hist.history['acc'],'r', label=\"train\")\n",
    "plt.plot(hist.history['val_acc'],'g', label=\"validation\")\n",
    "plt.xticks(np.arange(0, epochs_eol+1, epochs_eol))\n",
    "plt.rcParams['figure.figsize'] = (8, 6)\n",
    "plt.xlabel(\"Nb d'Epochs\")\n",
    "plt.ylabel(\"Accuracy\")\n",
    "plt.title(\"Training Accuracy vs Validation Accuracy\")\n",
    "plt.legend()\n",
    "\n",
    "plt.figure(1)\n",
    "plt.plot(hist.history['loss'],'r')\n",
    "plt.plot(hist.history['val_loss'],'g')\n",
    "plt.xticks(np.arange(0, epochs_eol+1, epochs_eol))\n",
    "plt.rcParams['figure.figsize'] = (8, 6)\n",
    "plt.xlabel(\"Nb d'Epochs\")\n",
    "plt.ylabel(\"Loss\")\n",
    "plt.title(\"Training Loss vs Validation Loss\")\n",
    "plt.legend(['train','validation'])\n",
    "plt.show()\n"
   ]
  },
  {
   "cell_type": "code",
   "execution_count": 21,
   "metadata": {},
   "outputs": [
    {
     "name": "stdout",
     "output_type": "stream",
     "text": [
      "54/53 [==============================] - 15s 269ms/step\n",
      "214/213 [==============================] - 57s 267ms/step\n",
      "Train accuracy: 0.9802\n",
      "Validation accuracy: 0.9675\n"
     ]
    }
   ],
   "source": [
    "# ============================================================================================\n",
    "# 4.5. execution - modele en validation\n",
    "# ============================================================================================\n",
    "\n",
    "\n",
    "score_conv_val_eol = model_conv_eol.evaluate_generator(validation_generator_eol, N_val_eol / batch_size_eol, verbose=1)\n",
    "score_conv_train_eol = model_conv_eol.evaluate_generator(train_generator_eol, N_train_eol / batch_size_eol, verbose=1)\n",
    "\n",
    "# Affichage des résultats\n",
    "print('Train accuracy:', round(score_conv_train_eol[1],4))\n",
    "print('Validation accuracy:', round(score_conv_val_eol[1],4))\n",
    "#print(\"Time Prediction: %.2f seconds\" %t_prediction_conv_simple_model_eol)"
   ]
  },
  {
   "cell_type": "code",
   "execution_count": 22,
   "metadata": {},
   "outputs": [],
   "source": [
    "# ============================================================================================\n",
    "# 4.5. execution - modele en test\n",
    "# ============================================================================================"
   ]
  },
  {
   "cell_type": "code",
   "execution_count": 23,
   "metadata": {},
   "outputs": [
    {
     "name": "stdout",
     "output_type": "stream",
     "text": [
      "Repertoire DataGenerator Test =  /home/dlp/insa31/data_airbus_defi/data_airbus_defi/test/\n"
     ]
    }
   ],
   "source": [
    "print (\"Repertoire DataGenerator Test = \", data_dir_test)\n",
    "test_datagen_eol = kpi.ImageDataGenerator(rescale=1./255)"
   ]
  },
  {
   "cell_type": "code",
   "execution_count": 24,
   "metadata": {},
   "outputs": [
    {
     "name": "stdout",
     "output_type": "stream",
     "text": [
      "Found 17056 images belonging to 1 classes.\n"
     ]
    }
   ],
   "source": [
    "test_generator_eol = test_datagen_eol.flow_from_directory(\n",
    "    data_dir_test,\n",
    "    target_size = (img_height_eol, img_width_eol),\n",
    "    batch_size = 32,             # ATTENTION DOIT ETRE un MULTIPLE du nombre d'images de test !!\n",
    "    class_mode = None,           # only data, no labels\n",
    "    shuffle = False)             # keep data in same order as labels"
   ]
  },
  {
   "cell_type": "code",
   "execution_count": 25,
   "metadata": {},
   "outputs": [
    {
     "name": "stdout",
     "output_type": "stream",
     "text": [
      "533/533 [==============================] - 10s 18ms/step\n"
     ]
    }
   ],
   "source": [
    "# prediction = production des etiquettes de classes\n",
    "Y_test_prediction = model_conv_eol.predict_generator(test_generator_eol, steps=533, verbose=1)"
   ]
  },
  {
   "cell_type": "code",
   "execution_count": 26,
   "metadata": {},
   "outputs": [
    {
     "data": {
      "text/plain": [
       "['7499.jpg',\n",
       " '13314.jpg',\n",
       " '11188.jpg',\n",
       " '623.jpg',\n",
       " '8486.jpg',\n",
       " '15756.jpg',\n",
       " '780.jpg',\n",
       " '659.jpg',\n",
       " '7630.jpg',\n",
       " '3311.jpg']"
      ]
     },
     "execution_count": 26,
     "metadata": {},
     "output_type": "execute_result"
    }
   ],
   "source": [
    "# affichage des 10 premieres images\n",
    "os.listdir('/home/dlp/insa31/data_airbus_defi/data_airbus_defi/test/unknown')[:10]"
   ]
  },
  {
   "cell_type": "code",
   "execution_count": 27,
   "metadata": {},
   "outputs": [],
   "source": [
    "#x = zip_list[0]\n",
    "#x[0].split('/home/lepic/insa31/data_airbus_defi/data_airbus_defi/data_airbus_defi/test/unknown')"
   ]
  },
  {
   "cell_type": "code",
   "execution_count": 28,
   "metadata": {},
   "outputs": [
    {
     "data": {
      "text/plain": [
       "[('unknown/0.jpg', array([0.94843376], dtype=float32)),\n",
       " ('unknown/1.jpg', array([0.00032817], dtype=float32)),\n",
       " ('unknown/10.jpg', array([0.00087431], dtype=float32)),\n",
       " ('unknown/100.jpg', array([0.99999905], dtype=float32)),\n",
       " ('unknown/1000.jpg', array([1.], dtype=float32)),\n",
       " ('unknown/10000.jpg', array([0.9999995], dtype=float32)),\n",
       " ('unknown/10001.jpg', array([0.9999994], dtype=float32)),\n",
       " ('unknown/10002.jpg', array([0.00013499], dtype=float32)),\n",
       " ('unknown/10003.jpg', array([0.01854306], dtype=float32)),\n",
       " ('unknown/10004.jpg', array([0.99928856], dtype=float32))]"
      ]
     },
     "execution_count": 28,
     "metadata": {},
     "output_type": "execute_result"
    }
   ],
   "source": [
    "zip_list = list(zip(test_generator_eol.filenames,Y_test_prediction))\n",
    "zip_list[:10]"
   ]
  },
  {
   "cell_type": "code",
   "execution_count": 29,
   "metadata": {},
   "outputs": [
    {
     "name": "stdout",
     "output_type": "stream",
     "text": [
      "17056\n",
      "Sauvegarde dans :  /home/dlp/insa31/data_airbus_defi/data_airbus_defi/results/Model4Layers/Resultats_liste_images_test-V1-E50-B256.csv\n"
     ]
    }
   ],
   "source": [
    "zip_list = list(zip(test_generator_eol.filenames,Y_test_prediction))\n",
    "\n",
    "#a = \"/home/lepic/insa31/data_airbus_defi/data_airbus_defi/data_airbus_defi/test/unknown/\"\n",
    "a = \"unknown/\"\n",
    "\n",
    "##sorted_zip_list = sorted(zip_list, key=lambda x : int(x[0].split(\"test/\")[1].split(\".jpg\")[0]))\n",
    "\n",
    "sorted_zip_list = sorted(zip_list, key=lambda x : int(x[0].split(a)[1].split(\".jpg\")[0]))\n",
    "\n",
    "sorted_zip_list[:11]\n",
    "liste_images_test = []\n",
    "i = 0\n",
    "for it in sorted_zip_list:\n",
    "    prediction = it[1][0]\n",
    "    file = it[0]\n",
    "    file2 = file.split(a)[1]\n",
    "   \n",
    "    if prediction > 0.5:\n",
    "        liste_images_test.append([file2,1])\n",
    "    else:\n",
    "        liste_images_test.append([file2,0])\n",
    "    i = i + 1\n",
    "        \n",
    "print(len(liste_images_test))\n",
    "\n",
    "df_test = pd.DataFrame(liste_images_test,columns=['name','prediction'])\n",
    "df_test.head()\n",
    "\n",
    "\n",
    "file_res = \"/home/dlp/insa31/data_airbus_defi/data_airbus_defi/results/Model4Layers/Resultats_liste_images_test-V1-E{0}-B{1}.csv\".format(epochs_eol, batch_size_eol)\n",
    "df_test.to_csv(file_res,index=False,sep=';')\n",
    "print(\"Sauvegarde dans : \",file_res)\n"
   ]
  },
  {
   "cell_type": "code",
   "execution_count": 30,
   "metadata": {},
   "outputs": [
    {
     "name": "stdout",
     "output_type": "stream",
     "text": [
      " TEMPS TOTAL EXECUTION = 56.35 mn\n"
     ]
    }
   ],
   "source": [
    "te = time.time()\n",
    "temps = round((te-ts)/60,2)\n",
    "print (\" TEMPS TOTAL EXECUTION =\", temps, \"mn\")"
   ]
  }
 ],
 "metadata": {
  "kernelspec": {
   "display_name": "Python 3",
   "language": "python",
   "name": "python3"
  },
  "language_info": {
   "codemirror_mode": {
    "name": "ipython",
    "version": 3
   },
   "file_extension": ".py",
   "mimetype": "text/x-python",
   "name": "python",
   "nbconvert_exporter": "python",
   "pygments_lexer": "ipython3",
   "version": "3.6.8"
  }
 },
 "nbformat": 4,
 "nbformat_minor": 2
}
